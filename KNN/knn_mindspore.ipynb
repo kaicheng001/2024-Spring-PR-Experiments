{
 "cells": [
  {
   "cell_type": "code",
   "execution_count": 1,
   "metadata": {},
   "outputs": [],
   "source": [
    "# # 安装MindSpore库\n",
    "# !pip install mindspore\n",
    "\n",
    "# 导入所需库\n",
    "import mindspore as ms\n",
    "from mindspore import context, Tensor\n",
    "from mindspore.dataset import GeneratorDataset\n",
    "import numpy as np\n",
    "import pandas as pd\n"
   ]
  },
  {
   "cell_type": "code",
   "execution_count": 2,
   "metadata": {},
   "outputs": [],
   "source": [
    "# 设置MindSpore的运行环境\n",
    "context.set_context(mode=context.GRAPH_MODE, device_target=\"CPU\")\n",
    "\n",
    "# 自定义数据加载函数\n",
    "def load_data(file_path, has_label=True):\n",
    "    data = pd.read_csv(file_path)\n",
    "    if has_label:\n",
    "        X = data.iloc[:, :-1].values\n",
    "        y = data.iloc[:, -1].values\n",
    "        return X, y\n",
    "    else:\n",
    "        X = data.values\n",
    "        return X\n",
    "\n",
    "# 加载数据\n",
    "X_train, y_train = load_data('data/train.csv')\n",
    "X_val, y_val = load_data('data/val.csv')\n",
    "X_test = load_data('data/test_data.csv', has_label=False)\n",
    "\n",
    "# 数据标准化\n",
    "def standardize_data(X_train, X_val, X_test):\n",
    "    mean = np.mean(X_train, axis=0)\n",
    "    std = np.std(X_train, axis=0)\n",
    "    X_train = (X_train - mean) / std\n",
    "    X_val = (X_val - mean) / std\n",
    "    X_test = (X_test - mean) / std\n",
    "    return X_train, X_val, X_test\n",
    "\n",
    "X_train, X_val, X_test = standardize_data(X_train, X_val, X_test)\n",
    "\n",
    "# 创建MindSpore数据集\n",
    "def generator_train():\n",
    "    for i in range(len(X_train)):\n",
    "        yield X_train[i], y_train[i]\n",
    "\n",
    "def generator_val():\n",
    "    for i in range(len(X_val)):\n",
    "        yield X_val[i], y_val[i]\n",
    "\n",
    "def generator_test():\n",
    "    for i in range(len(X_test)):\n",
    "        yield X_test[i]\n",
    "\n",
    "train_dataset = GeneratorDataset(generator_train, [\"data\", \"label\"])\n",
    "val_dataset = GeneratorDataset(generator_val, [\"data\", \"label\"])\n",
    "test_dataset = GeneratorDataset(generator_test, [\"data\"])\n"
   ]
  },
  {
   "cell_type": "code",
   "execution_count": 3,
   "metadata": {},
   "outputs": [],
   "source": [
    "class KNN:\n",
    "    def __init__(self, k=3):\n",
    "        self.k = k\n",
    "\n",
    "    def fit(self, X, y):\n",
    "        self.X_train = X\n",
    "        self.y_train = y\n",
    "\n",
    "    def predict(self, X):\n",
    "        distances = self._compute_distances(X)\n",
    "        return self._predict_labels(distances)\n",
    "\n",
    "    def _compute_distances(self, X):\n",
    "        distances = []\n",
    "        for x_test in X:\n",
    "            distance = np.linalg.norm(self.X_train - x_test, axis=1)\n",
    "            distances.append(distance)\n",
    "        return np.array(distances)\n",
    "\n",
    "    def _predict_labels(self, distances):\n",
    "        y_pred = []\n",
    "        for distance in distances:\n",
    "            k_nearest = np.argsort(distance)[:self.k]\n",
    "            k_nearest_labels = self.y_train[k_nearest]\n",
    "            most_common = np.argmax(np.bincount(k_nearest_labels))\n",
    "            y_pred.append(most_common)\n",
    "        return np.array(y_pred)\n"
   ]
  },
  {
   "cell_type": "code",
   "execution_count": 4,
   "metadata": {},
   "outputs": [
    {
     "name": "stdout",
     "output_type": "stream",
     "text": [
      "Validation Accuracy: 0.9333333333333333\n"
     ]
    }
   ],
   "source": [
    "# 训练KNN模型\n",
    "knn = KNN(k=3)\n",
    "knn.fit(X_train, y_train)\n",
    "\n",
    "# 在验证集上评估模型\n",
    "val_predictions = knn.predict(X_val)\n",
    "val_accuracy = np.mean(val_predictions == y_val)\n",
    "print(f'Validation Accuracy: {val_accuracy}')\n"
   ]
  },
  {
   "cell_type": "code",
   "execution_count": 5,
   "metadata": {},
   "outputs": [],
   "source": [
    "# 使用训练好的模型对测试集进行预测\n",
    "test_predictions = knn.predict(X_test)\n",
    "\n",
    "# 转换为DataFrame并保存预测结果\n",
    "test_predictions = test_predictions.astype(int)\n",
    "test_predictions_df = pd.DataFrame(test_predictions, columns=['label'])\n",
    "test_predictions_df.to_csv('task3_test_prediction.csv', index=False)\n",
    "\n",
    "# 显示前几行预测结果\n",
    "# test_predictions_df.head().style.background_gradient(sns.color_palette(\"YlOrBr\", as_cmap=True))\n"
   ]
  }
 ],
 "metadata": {
  "kernelspec": {
   "display_name": "mindspore",
   "language": "python",
   "name": "python3"
  },
  "language_info": {
   "codemirror_mode": {
    "name": "ipython",
    "version": 3
   },
   "file_extension": ".py",
   "mimetype": "text/x-python",
   "name": "python",
   "nbconvert_exporter": "python",
   "pygments_lexer": "ipython3",
   "version": "3.9.19"
  }
 },
 "nbformat": 4,
 "nbformat_minor": 2
}

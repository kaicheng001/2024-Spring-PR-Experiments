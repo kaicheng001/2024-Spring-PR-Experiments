{
 "cells": [
  {
   "cell_type": "markdown",
   "metadata": {},
   "source": [
    "## mindspore实现KNN(基于欧氏距离)"
   ]
  },
  {
   "cell_type": "code",
   "execution_count": 26,
   "metadata": {},
   "outputs": [
    {
     "name": "stdout",
     "output_type": "stream",
     "text": [
      "Validation Accuracy: 0.93333334\n",
      "Test Predictions: [2 1 0 2 0 2 0 1 1 1 2 1 1 1 1 0 1 1 0 0 2 1 0 0 2 0 0 1 1 0 2 1 0 2 2 1 0\n",
      " 2]\n"
     ]
    }
   ],
   "source": [
    "import mindspore.context as context\n",
    "import mindspore.numpy as mnp\n",
    "import mindspore.ops as ops\n",
    "import pandas as pd\n",
    "from mindspore import Tensor\n",
    "\n",
    "# 设置MindSpore的运行环境\n",
    "context.set_context(mode=context.GRAPH_MODE, device_target=\"CPU\")\n",
    "\n",
    "# 自定义数据加载函数\n",
    "def load_data(file_path, has_label=True):\n",
    "    data = pd.read_csv(file_path)\n",
    "    if has_label:\n",
    "        X = data.iloc[:, :-1].values\n",
    "        y = data.iloc[:, -1].values\n",
    "        return X, y\n",
    "    else:\n",
    "        X = data.values\n",
    "        return X\n",
    "\n",
    "# 加载数据\n",
    "X_train, y_train = load_data('data/train.csv')\n",
    "X_val, y_val = load_data('data/val.csv')\n",
    "X_test = load_data('data/test_data.csv', has_label=False)\n",
    "\n",
    "# 将数据转换为MindSpore张量\n",
    "X_train = Tensor(X_train, mnp.float32)\n",
    "y_train = Tensor(y_train, mnp.int32)\n",
    "X_val = Tensor(X_val, mnp.float32)\n",
    "y_val = Tensor(y_val, mnp.int32)\n",
    "X_test = Tensor(X_test, mnp.float32)\n",
    "\n",
    "# 定义KNN算法\n",
    "class KNN:\n",
    "    def __init__(self, k=3):\n",
    "        self.k = k\n",
    "    \n",
    "    def fit(self, X, y):\n",
    "        self.X_train = X\n",
    "        self.y_train = y\n",
    "    \n",
    "    def predict(self, X):\n",
    "        distances = self.compute_distances(X)\n",
    "        return self.predict_labels(distances)\n",
    "    \n",
    "    def compute_distances(self, X):\n",
    "        num_test = X.shape[0]\n",
    "        num_train = self.X_train.shape[0]\n",
    "        dists = mnp.zeros((num_test, num_train))\n",
    "        for i in range(num_test):\n",
    "            dists[i, :] = mnp.sqrt(mnp.sum((self.X_train - X[i, :])**2, axis=1))\n",
    "        return dists\n",
    "    \n",
    "    def predict_labels(self, dists):\n",
    "        num_test = dists.shape[0]\n",
    "        y_pred = mnp.zeros(num_test, dtype=mnp.int32)\n",
    "        for i in range(num_test):\n",
    "            closest_y = []\n",
    "            sorted_indices = ops.Sort(axis=0)(dists[i, :])[1]\n",
    "            closest_y = self.y_train[sorted_indices[:self.k]]\n",
    "            y_pred[i] = mnp.bincount(closest_y).argmax()\n",
    "        return y_pred\n",
    "\n",
    "# 创建KNN实例并训练\n",
    "knn = KNN(k=3)\n",
    "knn.fit(X_train, y_train)\n",
    "\n",
    "# 在验证集上进行预测\n",
    "y_val_pred = knn.predict(X_val)\n",
    "accuracy_val = mnp.mean((y_val_pred == y_val).astype(mnp.float32))\n",
    "print(\"Validation Accuracy:\", accuracy_val.asnumpy())\n",
    "\n",
    "# 在测试集上进行预测\n",
    "y_test_pred = knn.predict(X_test)\n",
    "print(\"Test Predictions:\", y_test_pred.asnumpy())\n",
    "\n",
    "# 将预测结果保存到CSV文件\n",
    "df_predictions = pd.DataFrame(y_test_pred.asnumpy(), columns=['label'])\n",
    "df_predictions.to_csv('task3_test_prediction.csv', index=False)\n",
    "\n"
   ]
  }
 ],
 "metadata": {
  "kernelspec": {
   "display_name": "mindspore",
   "language": "python",
   "name": "python3"
  },
  "language_info": {
   "codemirror_mode": {
    "name": "ipython",
    "version": 3
   },
   "file_extension": ".py",
   "mimetype": "text/x-python",
   "name": "python",
   "nbconvert_exporter": "python",
   "pygments_lexer": "ipython3",
   "version": "3.9.19"
  }
 },
 "nbformat": 4,
 "nbformat_minor": 2
}

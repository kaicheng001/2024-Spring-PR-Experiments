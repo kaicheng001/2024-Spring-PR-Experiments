{
 "cells": [
  {
   "cell_type": "code",
   "execution_count": 3,
   "metadata": {},
   "outputs": [],
   "source": [
    "import numpy as np\n",
    "import struct\n",
    "import gzip\n",
    "import matplotlib.pyplot as plt\n",
    "import random"
   ]
  },
  {
   "cell_type": "code",
   "execution_count": 4,
   "metadata": {},
   "outputs": [],
   "source": [
    "# import torchvision\n",
    "# data_transform = torchvision.transforms.Compose([\n",
    "#     torchvision.transforms.ToTensor(),\n",
    "#     lambda x: torch.floor(x * 255 / 128).squeeze(dim=0)\n",
    "# ])\n",
    "\n",
    "# mnist_train = torchvision.datasets.MNIST(\n",
    "#     root='./temp', train=True, transform=data_transform, download=True)\n",
    "# mnist_test = torchvision.datasets.MNIST(\n",
    "#     root='./temp', train=False, transform=data_transform, download=True)"
   ]
  },
  {
   "cell_type": "code",
   "execution_count": 5,
   "metadata": {},
   "outputs": [
    {
     "name": "stdout",
     "output_type": "stream",
     "text": [
      "Magic number: 2051, Number of images: 60000, Rows: 28, Columns: 28\n",
      "Magic number: 2049, Number of labels: 60000\n",
      "Magic number: 2051, Number of images: 10000, Rows: 28, Columns: 28\n",
      "Magic number: 2049, Number of labels: 10000\n",
      "Training data shape: (60000, 28, 28)\n",
      "Training labels shape: (60000,)\n",
      "Test data shape: (10000, 28, 28)\n",
      "Test labels shape: (10000,)\n"
     ]
    }
   ],
   "source": [
    "def read_images(file_path):\n",
    "    with gzip.open(file_path, 'rb') as f:\n",
    "        # 读取文件头信息：魔数和图片数量\n",
    "        magic, num_images = struct.unpack(\">II\", f.read(8))\n",
    "        # 读取图片的行数和列数\n",
    "        num_rows, num_cols = struct.unpack(\">II\", f.read(8))\n",
    "        print(f\"Magic number: {magic}, Number of images: {num_images}, Rows: {num_rows}, Columns: {num_cols}\")\n",
    "        # 读取图片数据\n",
    "        images = np.frombuffer(f.read(), dtype=np.uint8).reshape(num_images, num_rows, num_cols)\n",
    "        return images\n",
    "\n",
    "def read_labels(file_path):\n",
    "    with gzip.open(file_path, 'rb') as f:\n",
    "        # 读取文件头信息：魔数和标签数量\n",
    "        magic, num_labels = struct.unpack(\">II\", f.read(8))\n",
    "        print(f\"Magic number: {magic}, Number of labels: {num_labels}\")\n",
    "        # 读取标签数据\n",
    "        labels = np.frombuffer(f.read(), dtype=np.uint8)\n",
    "        return labels\n",
    "\n",
    "# 设置数据集文件路径\n",
    "train_images_path = 'data/train-images-idx3-ubyte.gz'\n",
    "train_labels_path = 'data/train-labels-idx1-ubyte.gz'\n",
    "test_images_path = 'data/t10k-images-idx3-ubyte.gz'\n",
    "test_labels_path = 'data/t10k-labels-idx1-ubyte.gz'\n",
    "\n",
    "# 读取数据集\n",
    "X_train = read_images(train_images_path)\n",
    "y_train = read_labels(train_labels_path)\n",
    "X_test = read_images(test_images_path)\n",
    "y_test = read_labels(test_labels_path)\n",
    "\n",
    "print(f\"Training data shape: {X_train.shape}\")\n",
    "print(f\"Training labels shape: {y_train.shape}\")\n",
    "print(f\"Test data shape: {X_test.shape}\")\n",
    "print(f\"Test labels shape: {y_test.shape}\")\n"
   ]
  },
  {
   "cell_type": "code",
   "execution_count": 6,
   "metadata": {},
   "outputs": [],
   "source": [
    "# 将像素值归一化到[0, 1]范围\n",
    "X_train = X_train / 255.0\n",
    "X_test = X_test / 255.0\n",
    "\n",
    "# 将图像二值化\n",
    "X_train = (X_train > 0.5).astype(int)\n",
    "X_test = (X_test > 0.5).astype(int)\n",
    "\n",
    "# 将图像展开成一维向量\n",
    "X_train = X_train.reshape(X_train.shape[0], -1)\n",
    "X_test = X_test.reshape(X_test.shape[0], -1)\n"
   ]
  },
  {
   "cell_type": "code",
   "execution_count": 7,
   "metadata": {},
   "outputs": [],
   "source": [
    "class NaiveBayes:\n",
    "    def __init__(self):\n",
    "        self.classes = None\n",
    "        self.class_priors = {}\n",
    "        self.feature_probs = {}\n",
    "\n",
    "    def fit(self, X, y):\n",
    "        self.classes = np.unique(y)\n",
    "        n_samples, n_features = X.shape\n",
    "\n",
    "        for cls in self.classes:\n",
    "            X_cls = X[y == cls]\n",
    "            self.class_priors[cls] = X_cls.shape[0] / n_samples\n",
    "            self.feature_probs[cls] = (X_cls.sum(axis=0) + 1) / (X_cls.shape[0] + 2)\n",
    "\n",
    "    def predict(self, X):\n",
    "        posteriors = []\n",
    "        for x in X:\n",
    "            posterior_probs = {}\n",
    "            for cls in self.classes:\n",
    "                prior = np.log(self.class_priors[cls])\n",
    "                conditional = np.sum(np.log(self.feature_probs[cls]) * x + np.log(1 - self.feature_probs[cls]) * (1 - x))\n",
    "                posterior_probs[cls] = prior + conditional\n",
    "            posteriors.append(max(posterior_probs, key=posterior_probs.get))\n",
    "        return np.array(posteriors)\n"
   ]
  },
  {
   "cell_type": "code",
   "execution_count": 8,
   "metadata": {},
   "outputs": [
    {
     "name": "stdout",
     "output_type": "stream",
     "text": [
      "Accuracy: 0.8427\n"
     ]
    }
   ],
   "source": [
    "# 实例化朴素贝叶斯分类器\n",
    "nb = NaiveBayes()\n",
    "\n",
    "# 对数据进行训练\n",
    "nb.fit(X_train, y_train)\n",
    "\n",
    "# 对测试数据进行预测\n",
    "y_pred = nb.predict(X_test)\n",
    "accuracy = np.mean(y_pred == y_test)\n",
    "print(f\"Accuracy: {accuracy:.4f}\")"
   ]
  },
  {
   "cell_type": "code",
   "execution_count": 9,
   "metadata": {},
   "outputs": [
    {
     "data": {
      "image/png": "[encoded data removed]",
      "text/plain": [
       "<Figure size 1000x1000 with 10 Axes>"
      ]
     },
     "metadata": {},
     "output_type": "display_data"
    }
   ],
   "source": [
    "# 随机选择10个测试样本\n",
    "indices = random.sample(range(X_test.shape[0]), 10)\n",
    "images = X_test[indices].reshape(-1, 28, 28)\n",
    "true_labels = y_test[indices]\n",
    "pred_labels = y_pred[indices]\n",
    "\n",
    "plt.figure(figsize=(10, 10))\n",
    "for i in range(10):\n",
    "    plt.subplot(5, 5, i + 1)\n",
    "    plt.imshow(images[i], cmap='gray')\n",
    "    plt.title(f\"True: {true_labels[i]}\\nPred: {pred_labels[i]}\")\n",
    "    plt.axis('off')\n",
    "plt.tight_layout()\n",
    "plt.show()"
   ]
  },
  {
   "cell_type": "markdown",
   "metadata": {},
   "source": [
    "## 完整的代码（手动实现Naive Bayes）"
   ]
  },
  {
   "cell_type": "code",
   "execution_count": 10,
   "metadata": {},
   "outputs": [
    {
     "name": "stdout",
     "output_type": "stream",
     "text": [
      "Magic number: 2051, Number of images: 60000, Rows: 28, Columns: 28\n",
      "Magic number: 2049, Number of labels: 60000\n",
      "Magic number: 2051, Number of images: 10000, Rows: 28, Columns: 28\n",
      "Magic number: 2049, Number of labels: 10000\n",
      "Training data shape: (60000, 28, 28)\n",
      "Training labels shape: (60000,)\n",
      "Test data shape: (10000, 28, 28)\n",
      "Test labels shape: (10000,)\n",
      "Accuracy: 0.8427\n"
     ]
    },
    {
     "data": {
      "image/png": "[encoded data removed]",
      "text/plain": [
       "<Figure size 1000x1000 with 10 Axes>"
      ]
     },
     "metadata": {},
     "output_type": "display_data"
    }
   ],
   "source": [
    "import numpy as np\n",
    "import struct\n",
    "import gzip\n",
    "import matplotlib.pyplot as plt\n",
    "\n",
    "def read_images(file_path):\n",
    "    with gzip.open(file_path, 'rb') as f:\n",
    "        # 读取文件头信息：魔数和图片数量\n",
    "        magic, num_images = struct.unpack(\">II\", f.read(8))\n",
    "        # 读取图片的行数和列数\n",
    "        num_rows, num_cols = struct.unpack(\">II\", f.read(8))\n",
    "        print(f\"Magic number: {magic}, Number of images: {num_images}, Rows: {num_rows}, Columns: {num_cols}\")\n",
    "        # 读取图片数据\n",
    "        images = np.frombuffer(f.read(), dtype=np.uint8).reshape(num_images, num_rows, num_cols)\n",
    "        return images\n",
    "\n",
    "def read_labels(file_path):\n",
    "    with gzip.open(file_path, 'rb') as f:\n",
    "        # 读取文件头信息：魔数和标签数量\n",
    "        magic, num_labels = struct.unpack(\">II\", f.read(8))\n",
    "        print(f\"Magic number: {magic}, Number of labels: {num_labels}\")\n",
    "        # 读取标签数据\n",
    "        labels = np.frombuffer(f.read(), dtype=np.uint8)\n",
    "        return labels\n",
    "\n",
    "# 设置数据集文件路径\n",
    "train_images_path = 'data/train-images-idx3-ubyte.gz'\n",
    "train_labels_path = 'data/train-labels-idx1-ubyte.gz'\n",
    "test_images_path = 'data/t10k-images-idx3-ubyte.gz'\n",
    "test_labels_path = 'data/t10k-labels-idx1-ubyte.gz'\n",
    "\n",
    "# 读取数据集\n",
    "X_train = read_images(train_images_path)\n",
    "y_train = read_labels(train_labels_path)\n",
    "X_test = read_images(test_images_path)\n",
    "y_test = read_labels(test_labels_path)\n",
    "\n",
    "print(f\"Training data shape: {X_train.shape}\")\n",
    "print(f\"Training labels shape: {y_train.shape}\")\n",
    "print(f\"Test data shape: {X_test.shape}\")\n",
    "print(f\"Test labels shape: {y_test.shape}\")\n",
    "\n",
    "# 将像素值归一化到[0, 1]范围\n",
    "X_train = X_train / 255.0\n",
    "X_test = X_test / 255.0\n",
    "\n",
    "# 将图像二值化\n",
    "X_train = (X_train > 0.5).astype(int)\n",
    "X_test = (X_test > 0.5).astype(int)\n",
    "\n",
    "# 将图像展开成一维向量\n",
    "X_train = X_train.reshape(X_train.shape[0], -1)\n",
    "X_test = X_test.reshape(X_test.shape[0], -1)\n",
    "\n",
    "class NaiveBayes:\n",
    "    def __init__(self):\n",
    "        self.classes = None\n",
    "        self.class_priors = {}\n",
    "        self.feature_probs = {}\n",
    "\n",
    "    def fit(self, X, y):\n",
    "        self.classes = np.unique(y)\n",
    "        n_samples, n_features = X.shape\n",
    "\n",
    "        for cls in self.classes:\n",
    "            X_cls = X[y == cls]\n",
    "            self.class_priors[cls] = X_cls.shape[0] / n_samples\n",
    "            self.feature_probs[cls] = (X_cls.sum(axis=0) + 1) / (X_cls.shape[0] + 2)\n",
    "\n",
    "    def predict(self, X):\n",
    "        posteriors = []\n",
    "        for x in X:\n",
    "            posterior_probs = {}\n",
    "            for cls in self.classes:\n",
    "                prior = np.log(self.class_priors[cls])\n",
    "                conditional = np.sum(np.log(self.feature_probs[cls]) * x + np.log(1 - self.feature_probs[cls]) * (1 - x))\n",
    "                posterior_probs[cls] = prior + conditional\n",
    "            posteriors.append(max(posterior_probs, key=posterior_probs.get))\n",
    "        return np.array(posteriors)\n",
    "\n",
    "# 实例化朴素贝叶斯分类器\n",
    "nb = NaiveBayes()\n",
    "\n",
    "# 对数据进行训练\n",
    "nb.fit(X_train, y_train)\n",
    "\n",
    "# 对测试数据进行预测\n",
    "y_pred = nb.predict(X_test)\n",
    "accuracy = np.mean(y_pred == y_test)\n",
    "print(f\"Accuracy: {accuracy:.4f}\")\n",
    "\n",
    "# 可视化部分预测结果\n",
    "import random\n",
    "\n",
    "# 随机选择10个测试样本\n",
    "indices = random.sample(range(X_test.shape[0]), 10)\n",
    "images = X_test[indices].reshape(-1, 28, 28)\n",
    "true_labels = y_test[indices]\n",
    "pred_labels = y_pred[indices]\n",
    "\n",
    "plt.figure(figsize=(10, 10))\n",
    "for i in range(10):\n",
    "    plt.subplot(5, 5, i + 1)\n",
    "    plt.imshow(images[i], cmap='gray')\n",
    "    plt.title(f\"True: {true_labels[i]}\\nPred: {pred_labels[i]}\")\n",
    "    plt.axis('off')\n",
    "plt.tight_layout()\n",
    "plt.show()\n"
   ]
  }
 ],
 "metadata": {
  "kernelspec": {
   "display_name": "pytorch",
   "language": "python",
   "name": "python3"
  },
  "language_info": {
   "codemirror_mode": {
    "name": "ipython",
    "version": 3
   },
   "file_extension": ".py",
   "mimetype": "text/x-python",
   "name": "python",
   "nbconvert_exporter": "python",
   "pygments_lexer": "ipython3",
   "version": "3.11.5"
  }
 },
 "nbformat": 4,
 "nbformat_minor": 2
}
